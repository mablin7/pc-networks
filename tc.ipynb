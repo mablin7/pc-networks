{
 "cells": [
  {
   "cell_type": "code",
   "execution_count": null,
   "metadata": {},
   "outputs": [],
   "source": [
    "%load_ext autoreload\n",
    "%autoreload 2 --print"
   ]
  },
  {
   "cell_type": "code",
   "execution_count": null,
   "metadata": {},
   "outputs": [],
   "source": [
    "import numpy as np\n",
    "import matplotlib.pyplot as plt\n",
    "from pc_networks.tc import PurkinjeCellTC, TCParameters"
   ]
  },
  {
   "cell_type": "code",
   "execution_count": 27,
   "metadata": {},
   "outputs": [],
   "source": [
    "# Set up simulation parameters\n",
    "t_start = 0  # ms\n",
    "t_end = 350    # ms\n",
    "dt = 0.01      # ms\n",
    "t = np.arange(t_start, t_end, dt)\n",
    "n_steps = len(t)"
   ]
  },
  {
   "cell_type": "code",
   "execution_count": 45,
   "metadata": {},
   "outputs": [],
   "source": [
    "def create_spike_train(n_spikes, t_start, t_end, length=1):\n",
    "    spike_train = np.zeros(n_steps)\n",
    "    spike_times = np.random.uniform(t_start, t_end, n_spikes)\n",
    "    for spike_time in spike_times:\n",
    "        spike_idx = int(spike_time / dt)\n",
    "        spike_train[spike_idx:spike_idx+int(length/dt)] = 1\n",
    "    return spike_train"
   ]
  },
  {
   "cell_type": "code",
   "execution_count": 67,
   "metadata": {},
   "outputs": [],
   "source": [
    "# Create model instance\n",
    "model = PurkinjeCellTC()\n",
    "\n",
    "# Initialize arrays to store results\n",
    "Vs = np.zeros(n_steps)\n",
    "VM0 = np.zeros(n_steps)\n",
    "VS1 = np.zeros(n_steps)\n",
    "VS2 = np.zeros(n_steps)\n",
    "VS3 = np.zeros(n_steps)\n",
    "freq = np.zeros(n_steps)\n",
    "\n",
    "# Create spike train starting at 100 ms, with 3 10ms spikes with 50ms interval\n",
    "Ic = create_spike_train(3, 100, 200, length=10) * 100.0\n",
    "\n",
    "# Run simulation\n",
    "# CF input at t=0\n",
    "for i, time in enumerate(t):\n",
    "    # Store voltage\n",
    "    Vs[i] = model.Vs\n",
    "    VM0[i] = model.Vd\n",
    "    VS1[i] = model.Vsd[0]\n",
    "    VS2[i] = model.Vsd[1]\n",
    "    VS3[i] = model.Vsd[2]\n",
    "    \n",
    "    # Apply input \n",
    "    model.update(dt, time)"
   ]
  },
  {
   "cell_type": "code",
   "execution_count": null,
   "metadata": {},
   "outputs": [],
   "source": [
    "plt.figure(figsize=(12, 8))\n",
    "\n",
    "# Plot input current\n",
    "plt.subplot(3, 1, 1)\n",
    "plt.plot(t, Ic, 'r-', label='CF input', linewidth=1)\n",
    "plt.xlabel('ms')\n",
    "plt.ylabel('nA')\n",
    "plt.legend()\n",
    "\n",
    "plt.subplot(3, 1, 2)\n",
    "plt.plot(t, Vs, 'b-', linewidth=1, label='Vs')\n",
    "plt.plot(t, VM0, 'g-', linewidth=1, label='Vd')\n",
    "plt.plot(t, VS1, 'c-', linewidth=1, label='Vsd1')\n",
    "plt.plot(t, VS2, 'm-', linewidth=1, label='Vsd2')\n",
    "plt.plot(t, VS3, 'y-', linewidth=1, label='Vsd3')\n",
    "plt.ylim(-75, 0)\n",
    "plt.xlabel('ms')\n",
    "plt.ylabel('mV')\n",
    "plt.legend()\n",
    "\n",
    "plt.tight_layout()\n",
    "plt.show()"
   ]
  },
  {
   "cell_type": "code",
   "execution_count": null,
   "metadata": {},
   "outputs": [],
   "source": []
  }
 ],
 "metadata": {
  "kernelspec": {
   "display_name": ".venv",
   "language": "python",
   "name": "python3"
  },
  "language_info": {
   "codemirror_mode": {
    "name": "ipython",
    "version": 3
   },
   "file_extension": ".py",
   "mimetype": "text/x-python",
   "name": "python",
   "nbconvert_exporter": "python",
   "pygments_lexer": "ipython3",
   "version": "3.12.6"
  }
 },
 "nbformat": 4,
 "nbformat_minor": 2
}
